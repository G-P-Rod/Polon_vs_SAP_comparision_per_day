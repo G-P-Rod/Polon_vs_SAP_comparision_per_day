{
 "cells": [
  {
   "cell_type": "code",
   "execution_count": 1,
   "id": "5d00cedc",
   "metadata": {
    "scrolled": false
   },
   "outputs": [],
   "source": [
    "import pandas as pd\n",
    "import openpyxl\n",
    "from openpyxl.styles import PatternFill, Border, Side\n",
    "import nbimporter\n",
    "\n",
    "from sap_data_prepare import sap_data\n",
    "from polon_data_prepare import polon_data\n",
    "from merge_and_save import techers_compare, not_techers_compare, save_to_excel\n",
    "from styles_changes import worksheet_style\n",
    "\n",
    "import warnings\n",
    "warnings.simplefilter(\"ignore\")"
   ]
  },
  {
   "cell_type": "code",
   "execution_count": 2,
   "id": "27d99774",
   "metadata": {},
   "outputs": [],
   "source": [
    "#Define the paths to the input SAP and POLON Excel files\n",
    "path_sap = r'C:\\Users\\Grzegorz\\Documents\\GitHub\\Polon_vs_SAP_comparision_per_day\\data\\raw\\SAP 31.08.2023.xlsx' \n",
    "path_polon = r'C:\\Users\\Grzegorz\\Documents\\GitHub\\Polon_vs_SAP_comparision_per_day\\data\\raw\\POLON 31.08.2023.xlsx'\n",
    "\n",
    "#Define the paths to save temporary SAP and POLON Excel file\n",
    "path_temp_excel = r'C:\\Users\\Grzegorz\\Documents\\GitHub\\Polon_vs_SAP_comparision_per_day\\data\\interim\\POLONvsSAP.xlsx'\n",
    "\n",
    "#Define the paths to save final SAP and POLON Excel file\n",
    "path_final_excel = r'C:\\Users\\Grzegorz\\Documents\\GitHub\\Polon_vs_SAP_comparision_per_day\\data\\processed\\POLONvsSAP_compare.xlsx'\n",
    "\n",
    "def main():\n",
    "    #Extract data for teachers and non-teachers\n",
    "    sap_t, sap_nt = sap_data(path_sap) #Extract data from SAP\n",
    "    polon_t, polon_nt = polon_data(path_polon) #Extract data from POLON\n",
    "    \n",
    "    #Compare SAP and POLON data\n",
    "    t_compare = techers_compare(sap_t, polon_t)\n",
    "    nt_compare = not_techers_compare(sap_nt, polon_nt)\n",
    "    \n",
    "    #Save the comparison results to a temporary Excel file\n",
    "    save_to_excel(t_compare, nt_compare, path_temp_excel)\n",
    "    \n",
    "    #Load the temporary Excel file and access the worksheets\n",
    "    wb = openpyxl.load_workbook(path_temp_excel, data_only=True)\n",
    "    ws_t = wb['teachers']\n",
    "    ws_nt = wb['not_teachers']\n",
    "\n",
    "    #Apply formatting\n",
    "    worksheet_style(ws_t)\n",
    "    worksheet_style(ws_nt)\n",
    "\n",
    "    #Save the formatted Excel file to the final destination\n",
    "    wb.save(path_final_excel)\n",
    "    wb.close()\n",
    "    \n",
    "#Run the main function    \n",
    "if __name__ == \"__main__\":\n",
    "    main()"
   ]
  }
 ],
 "metadata": {
  "kernelspec": {
   "display_name": "Python 3 (ipykernel)",
   "language": "python",
   "name": "python3"
  },
  "language_info": {
   "codemirror_mode": {
    "name": "ipython",
    "version": 3
   },
   "file_extension": ".py",
   "mimetype": "text/x-python",
   "name": "python",
   "nbconvert_exporter": "python",
   "pygments_lexer": "ipython3",
   "version": "3.9.12"
  }
 },
 "nbformat": 4,
 "nbformat_minor": 5
}
