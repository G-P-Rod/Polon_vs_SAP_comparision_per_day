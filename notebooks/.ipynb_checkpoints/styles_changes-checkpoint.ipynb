{
 "cells": [
  {
   "cell_type": "markdown",
   "id": "e0430073",
   "metadata": {},
   "source": [
    "**Styles changes with openpyxl**"
   ]
  },
  {
   "cell_type": "code",
   "execution_count": 13,
   "id": "93a82e6a",
   "metadata": {},
   "outputs": [],
   "source": [
    "import openpyxl\n",
    "from openpyxl.styles import PatternFill, Border, Side"
   ]
  },
  {
   "cell_type": "code",
   "execution_count": 1,
   "id": "e9b19226",
   "metadata": {},
   "outputs": [],
   "source": [
    "def worksheet_style(ws):\n",
    "    \n",
    "    #Choosen border style\n",
    "    border = Border(left = Side(border_style='thin', color='000000'),\n",
    "             right = Side(border_style='thin', color='000000'),\n",
    "             top = Side(border_style='thin', color='000000'),\n",
    "             bottom = Side(border_style='thin', color='000000'))\n",
    "\n",
    "    #Choosen color on headers\n",
    "    fill_green = PatternFill('solid', fgColor = '92D050')\n",
    "    \n",
    "    #Chosen color to mark differences\n",
    "    fill_red = PatternFill('solid', fgColor = 'E60000')\n",
    "\n",
    "    #Apply borders to all cells in the worksheet\n",
    "    for column in ws.columns:\n",
    "        for cell in column:\n",
    "            cell.border = border\n",
    "\n",
    "    #Set the width of the first three columns to 18 and 14 on the rest of the columns\n",
    "    for column in ws.iter_cols():\n",
    "        column_letter = openpyxl.utils.get_column_letter(column[0].column)\n",
    "        if column_letter in ['A', 'C', 'D']:\n",
    "            ws.column_dimensions[column_letter].width = 18\n",
    "        else:\n",
    "            ws.column_dimensions[column_letter].width = 14\n",
    "\n",
    "    #Set the height of the first row to 42\n",
    "    ws.row_dimensions[1].height = 42\n",
    "\n",
    "    #Apply bold, center alignment, and green fill to the header cells\n",
    "    for column in ws.iter_cols(min_row = 1, max_row = 1):\n",
    "        for cell in column:\n",
    "            cell.alignment = openpyxl.styles.Alignment(wrap_text = True, horizontal='center', vertical='center')\n",
    "            cell.font = openpyxl.styles.Font(bold=True)\n",
    "            cell.fill = fill_green\n",
    "\n",
    "    #Color-code cells where the values are different in the corresponding columns\n",
    "    column_dict = {'C':'D',\n",
    "                  'E':'F',\n",
    "                  'G':'H',\n",
    "                  'I':'J',\n",
    "                  'K':'L',\n",
    "                  'M':'N',\n",
    "                  'O':'P',\n",
    "                  'Q':'R'}\n",
    "\n",
    "    for col1, col2 in column_dict.items():\n",
    "        x = ws[col1]\n",
    "        y = ws[col2]\n",
    "\n",
    "        for cellx, celly in zip(x[1:], y[1:]):\n",
    "            if cellx.value != celly.value:\n",
    "                cellx.fill = fill_red\n",
    "                celly.fill = fill_red\n",
    "\n",
    "    #Set up a filter\n",
    "    ws.auto_filter.ref = ws.dimensions"
   ]
  }
 ],
 "metadata": {
  "kernelspec": {
   "display_name": "Python 3 (ipykernel)",
   "language": "python",
   "name": "python3"
  },
  "language_info": {
   "codemirror_mode": {
    "name": "ipython",
    "version": 3
   },
   "file_extension": ".py",
   "mimetype": "text/x-python",
   "name": "python",
   "nbconvert_exporter": "python",
   "pygments_lexer": "ipython3",
   "version": "3.9.12"
  }
 },
 "nbformat": 4,
 "nbformat_minor": 5
}
