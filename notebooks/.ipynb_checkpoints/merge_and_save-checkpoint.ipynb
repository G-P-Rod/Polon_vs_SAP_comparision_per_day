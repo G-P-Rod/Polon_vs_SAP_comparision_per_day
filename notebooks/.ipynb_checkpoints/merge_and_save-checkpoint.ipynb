{
 "cells": [
  {
   "cell_type": "code",
   "execution_count": 1,
   "id": "daa7d4eb",
   "metadata": {},
   "outputs": [],
   "source": [
    "import pandas as pd"
   ]
  },
  {
   "cell_type": "code",
   "execution_count": 2,
   "id": "46f94e07",
   "metadata": {},
   "outputs": [],
   "source": [
    "def techers_compare(sap_t, polon_t):\n",
    "    t_compare = sap_t.merge(polon_t,\n",
    "                        left_on = 'SAP_PESEL',\n",
    "                        right_on = 'POLON_PESEL',\n",
    "                        how = 'outer')\n",
    "\n",
    "    t_compare = t_compare.fillna('no data')\n",
    "\n",
    "    t_compare = t_compare[['SAP_Administrator_kadrowy', 'SAP_Nr osob.', 'SAP_Nazwisko_imie',\n",
    "                        'POLON_Nazwisko_imie', 'SAP_Podgrupa pracowników', 'POLON_Grupa_stanowisk',\n",
    "                        'SAP_Stanowisko', 'POLON_Stanowisko',\n",
    "                        'SAP_Etat', 'POLON_Etat',\n",
    "                        'SAP_Płeć', 'POLON_Płeć',\n",
    "                        'SAP_Tytuł', 'POLON_Tytuł',\n",
    "                        'SAP_Podst. Miejs. Pracy', 'POLON_Podst. miej. pracy',\n",
    "                        'SAP_Obywatelstwo', 'POLON_Obywatelstwo']]\n",
    "    return t_compare\n"
   ]
  },
  {
   "cell_type": "code",
   "execution_count": 3,
   "id": "a488264a",
   "metadata": {},
   "outputs": [],
   "source": [
    "def not_techers_compare(sap_nt, polon_nt):\n",
    "    nt_compare = polon_nt.merge(sap_nt,\n",
    "                                left_on = 'POLON_PESEL',\n",
    "                                right_on = 'SAP_PESEL',\n",
    "                                how = 'left')\n",
    "\n",
    "    nt_compare = nt_compare.fillna('no data')\n",
    "\n",
    "    nt_compare = nt_compare[['SAP_Administrator_kadrowy', 'SAP_Nr osob.', 'SAP_Nazwisko_imie',\n",
    "                           'POLON_Nazwisko_imie', 'SAP_Etat', 'POLON_Etat', 'SAP_Płeć', 'POLON_Płeć',\n",
    "                           'SAP_Tytuł', 'POLON_Tytuł', 'SAP_Podst. Miejs. Pracy', 'POLON_Podst. miej. pracy',\n",
    "                           'SAP_Obywatelstwo', 'POLON_Obywatelstwo']]\n",
    "    return nt_compare"
   ]
  },
  {
   "cell_type": "code",
   "execution_count": 4,
   "id": "d44d70d6",
   "metadata": {},
   "outputs": [],
   "source": [
    "def save_to_excel(t_compare, nt_compare):\n",
    "    with pd.ExcelWriter(r'C:\\Users\\Grzegorz.Rodziewicz\\Python\\Polon_SAP_comparision_per_day\\data\\interim\\POLONvsSAP.xlsx') as writer:\n",
    "        t_compare.to_excel(writer, sheet_name='teachers', index=False)\n",
    "        nt_compare.to_excel(writer, sheet_name='not_teachers', index=False)"
   ]
  }
 ],
 "metadata": {
  "kernelspec": {
   "display_name": "Python 3 (ipykernel)",
   "language": "python",
   "name": "python3"
  },
  "language_info": {
   "codemirror_mode": {
    "name": "ipython",
    "version": 3
   },
   "file_extension": ".py",
   "mimetype": "text/x-python",
   "name": "python",
   "nbconvert_exporter": "python",
   "pygments_lexer": "ipython3",
   "version": "3.9.18"
  }
 },
 "nbformat": 4,
 "nbformat_minor": 5
}
