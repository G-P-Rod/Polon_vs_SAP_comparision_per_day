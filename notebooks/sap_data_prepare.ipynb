{
 "cells": [
  {
   "cell_type": "code",
   "execution_count": 4,
   "id": "5a9f0066",
   "metadata": {},
   "outputs": [],
   "source": [
    "import pandas as pd"
   ]
  },
  {
   "cell_type": "code",
   "execution_count": 5,
   "id": "65df10b5",
   "metadata": {},
   "outputs": [],
   "source": [
    "def sap_data(path_sap):\n",
    "    \n",
    "    sap = pd.read_excel(path_sap)\n",
    "\n",
    "    sap['Grupa pracowników'] = sap['Grupa pracowników'].fillna('nauczyciel')\n",
    "    sap['Grupa pracowników'] = sap['Grupa pracowników'].replace('NNA', 'nienauczyciel')\n",
    "\n",
    "    sap = sap.rename(columns = {'D':'Podst. Miejs. Pracy',\n",
    "                                'Administrator danych podstawow':'Administrator_kadrowy',\n",
    "                                'Numer osobowy':'Nazwisko_imie',\n",
    "                                'Wymiar czasu pracy (dziesiętny':'Etat',\n",
    "                                'Tytuł2':'Tytuł',\n",
    "                                'Klucz płci':'Płeć'})\n",
    "\n",
    "    sap['Nazwisko_imie'] = sap['Nazwisko_imie'].str.capitalize()\n",
    "    \n",
    "    sap['Podst. Miejs. Pracy'] = sap['Podst. Miejs. Pracy'].fillna('Tak')\n",
    "    sap['Podst. Miejs. Pracy'] = sap['Podst. Miejs. Pracy'].replace('X', 'Nie')\n",
    "\n",
    "\n",
    "    sap['PESEL'] = sap['PESEL'].astype('int64')\n",
    "    sap['Etat'] = sap['Etat'].astype('float64')\n",
    "\n",
    "    sap = sap.drop_duplicates()\n",
    "    sap = sap.add_prefix('SAP_')\n",
    "\n",
    "    sap_t = sap[sap['SAP_Grupa pracowników']=='nauczyciel']\n",
    "    sap_nt = sap[sap['SAP_Grupa pracowników']=='nienauczyciel']\n",
    "    \n",
    "    return sap_t, sap_nt"
   ]
  },
  {
   "cell_type": "code",
   "execution_count": null,
   "id": "5304f2cb",
   "metadata": {},
   "outputs": [],
   "source": []
  }
 ],
 "metadata": {
  "kernelspec": {
   "display_name": "Python 3 (ipykernel)",
   "language": "python",
   "name": "python3"
  },
  "language_info": {
   "codemirror_mode": {
    "name": "ipython",
    "version": 3
   },
   "file_extension": ".py",
   "mimetype": "text/x-python",
   "name": "python",
   "nbconvert_exporter": "python",
   "pygments_lexer": "ipython3",
   "version": "3.9.18"
  }
 },
 "nbformat": 4,
 "nbformat_minor": 5
}
