{
 "cells": [
  {
   "cell_type": "code",
   "execution_count": 4,
   "id": "5a9f0066",
   "metadata": {},
   "outputs": [],
   "source": [
    "import pandas as pd"
   ]
  },
  {
   "cell_type": "code",
   "execution_count": 5,
   "id": "65df10b5",
   "metadata": {},
   "outputs": [],
   "source": [
    "#Define a function for processing data from SAP\n",
    "def sap_data(path_sap):\n",
    "    \n",
    "    #Get data from .xlsx file\n",
    "    sap = pd.read_excel(path_sap)\n",
    "\n",
    "    #The main division of SAP data is into two main groups, NA = teachers, NNA - not teachers or administration.\n",
    "    #'NA' is read by python as empty, so we need to change this way of writing\n",
    "    sap['Grupa pracowników'] = sap['Grupa pracowników'].fillna('nauczyciel')\n",
    "    sap['Grupa pracowników'] = sap['Grupa pracowników'].replace('NNA', 'nienauczyciel')\n",
    "\n",
    "    #Change names of columns, to more readable and unified\n",
    "    sap = sap.rename(columns = {'D':'Podst. Miejs. Pracy',\n",
    "                                'Administrator danych podstawow':'Administrator_kadrowy',\n",
    "                                'Numer osobowy':'Nazwisko_imie',\n",
    "                                'Wymiar czasu pracy (dziesiętny':'Etat',\n",
    "                                'Tytuł2':'Tytuł',\n",
    "                                'Klucz płci':'Płeć'})\n",
    "\n",
    "    #Unification of name and last name\n",
    "    sap['Nazwisko_imie'] = sap['Nazwisko_imie'].str.capitalize()\n",
    "    \n",
    "    #Changing the unreadable entry from sap hr to a more understandable one.\n",
    "    sap['Podst. Miejs. Pracy'] = sap['Podst. Miejs. Pracy'].fillna('Tak')\n",
    "    sap['Podst. Miejs. Pracy'] = sap['Podst. Miejs. Pracy'].replace('X', 'Nie')\n",
    "\n",
    "    #Unified formatting. Change on int64 is necessery, its key value to merge data.\n",
    "    sap['PESEL'] = sap['PESEL'].astype('int64')\n",
    "    sap['Etat'] = sap['Etat'].astype('float64')\n",
    "\n",
    "    #Remove duplicates if exist, add prefix to distinguish where the data comes from\n",
    "    sap = sap.drop_duplicates()\n",
    "    sap = sap.add_prefix('SAP_')\n",
    "\n",
    "    #Prepare two dataframes on based on main groups\n",
    "    sap_t = sap[sap['SAP_Grupa pracowników']=='nauczyciel']\n",
    "    sap_nt = sap[sap['SAP_Grupa pracowników']=='nienauczyciel']\n",
    "    \n",
    "    return sap_t, sap_nt"
   ]
  },
  {
   "cell_type": "code",
   "execution_count": null,
   "id": "5304f2cb",
   "metadata": {},
   "outputs": [],
   "source": []
  }
 ],
 "metadata": {
  "kernelspec": {
   "display_name": "Python 3 (ipykernel)",
   "language": "python",
   "name": "python3"
  },
  "language_info": {
   "codemirror_mode": {
    "name": "ipython",
    "version": 3
   },
   "file_extension": ".py",
   "mimetype": "text/x-python",
   "name": "python",
   "nbconvert_exporter": "python",
   "pygments_lexer": "ipython3",
   "version": "3.9.12"
  }
 },
 "nbformat": 4,
 "nbformat_minor": 5
}
