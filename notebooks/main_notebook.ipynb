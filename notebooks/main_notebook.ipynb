{
 "cells": [
  {
   "cell_type": "code",
   "execution_count": 7,
   "id": "5d00cedc",
   "metadata": {
    "scrolled": false
   },
   "outputs": [],
   "source": [
    "import pandas as pd\n",
    "import openpyxl\n",
    "from openpyxl.styles import PatternFill, Border, Side\n",
    "import nbimporter\n",
    "\n",
    "from sap_data_prepare import sap_data\n",
    "from polon_data_prepare import polon_data\n",
    "from merge_and_save import techers_compare, not_techers_compare, save_to_excel\n",
    "from styles_changes import worksheet_style\n",
    "\n",
    "import warnings\n",
    "warnings.simplefilter(\"ignore\")"
   ]
  },
  {
   "cell_type": "code",
   "execution_count": 8,
   "id": "27d99774",
   "metadata": {},
   "outputs": [],
   "source": [
    "path_sap = r'C:\\Users\\Grzegorz.Rodziewicz\\Python\\Polon_SAP_comparision_per_day\\SAP 18.12.2023.XLSX' \n",
    "path_polon = r'C:\\Users\\Grzegorz.Rodziewicz\\Python\\Polon_SAP_comparision_per_day\\POLON 18.12.2023.xlsx'\n",
    "\n",
    "def main():\n",
    "    sap_t, sap_nt = sap_data(path_sap)\n",
    "    polon_t, polon_nt = polon_data(path_polon)\n",
    "    \n",
    "    t_compare = techers_compare(sap_t, polon_t)\n",
    "    nt_compare = not_techers_compare(sap_nt, polon_nt)\n",
    "    \n",
    "    save_to_excel(t_compare, nt_compare)\n",
    "    \n",
    "    excel_path = r'C:\\Users\\Grzegorz.Rodziewicz\\Python\\Polon_SAP_comparision_per_day\\data\\interim\\POLONvsSAP.xlsx'\n",
    "\n",
    "    wb = openpyxl.load_workbook(excel_path, data_only=True)\n",
    "    ws_t = wb['teachers']\n",
    "    ws_nt = wb['not_teachers']\n",
    "\n",
    "    worksheet_style(ws_t)\n",
    "    worksheet_style(ws_nt)\n",
    "\n",
    "    wb.save(r'C:\\Users\\Grzegorz.Rodziewicz\\Python\\Polon_SAP_comparision_per_day\\data\\processed\\POLONvsSAP_compare.xlsx')\n",
    "    wb.close()\n",
    "    \n",
    "if __name__ == \"__main__\":\n",
    "    main()"
   ]
  },
  {
   "cell_type": "code",
   "execution_count": 3,
   "id": "a7cac429",
   "metadata": {
    "scrolled": true
   },
   "outputs": [],
   "source": [
    "# sap_t, sap_nt = sap_data(path_sap)\n",
    "# polon_t, polon_nt = polon_data(path_polon)"
   ]
  },
  {
   "cell_type": "code",
   "execution_count": 4,
   "id": "606cee73",
   "metadata": {},
   "outputs": [],
   "source": [
    "# t_compare = techers_compare(sap_t, polon_t)\n",
    "# nt_compare = not_techers_compare(sap_nt, polon_nt)"
   ]
  },
  {
   "cell_type": "code",
   "execution_count": 5,
   "id": "b7caf00f",
   "metadata": {},
   "outputs": [],
   "source": [
    "# save_to_excel(t_compare, nt_compare)"
   ]
  },
  {
   "cell_type": "code",
   "execution_count": 6,
   "id": "95e590ca",
   "metadata": {},
   "outputs": [],
   "source": [
    "# excel_path = r'C:\\Users\\Grzegorz.Rodziewicz\\Python\\Polon_SAP_comparision_per_day\\data\\interim\\POLONvsSAP.xlsx'\n",
    "\n",
    "# wb = openpyxl.load_workbook(excel_path, data_only=True)\n",
    "# ws_t = wb['teachers']\n",
    "# ws_nt = wb['not_teachers']\n",
    "\n",
    "# worksheet_style(ws_t)\n",
    "# worksheet_style(ws_nt)\n",
    "\n",
    "# wb.save(r'C:\\Users\\Grzegorz.Rodziewicz\\Python\\Polon_SAP_comparision_per_day\\data\\processed\\POLONvsSAP_compare.xlsx')\n",
    "# wb.close()"
   ]
  },
  {
   "cell_type": "code",
   "execution_count": null,
   "id": "80c91495",
   "metadata": {},
   "outputs": [],
   "source": []
  },
  {
   "cell_type": "code",
   "execution_count": null,
   "id": "e84dc78c",
   "metadata": {},
   "outputs": [],
   "source": []
  }
 ],
 "metadata": {
  "kernelspec": {
   "display_name": "Python 3 (ipykernel)",
   "language": "python",
   "name": "python3"
  },
  "language_info": {
   "codemirror_mode": {
    "name": "ipython",
    "version": 3
   },
   "file_extension": ".py",
   "mimetype": "text/x-python",
   "name": "python",
   "nbconvert_exporter": "python",
   "pygments_lexer": "ipython3",
   "version": "3.9.18"
  }
 },
 "nbformat": 4,
 "nbformat_minor": 5
}
